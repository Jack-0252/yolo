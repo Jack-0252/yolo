{
 "cells": [
  {
   "cell_type": "code",
   "execution_count": 1,
   "id": "f543d112",
   "metadata": {},
   "outputs": [
    {
     "name": "stdout",
     "output_type": "stream",
     "text": [
      "坐标已保存到 C:\\Users\\jack_\\Desktop\\shp2.xlsx\n"
     ]
    }
   ],
   "source": [
    "import os\n",
    "import sys\n",
    "import glob\n",
    "import pandas as pd\n",
    "import geopandas as gpd\n",
    "from shapely.geometry import Polygon\n",
    "\n",
    "# 手动处理 DLL 目录\n",
    "if sys.version_info < (3, 8):\n",
    "    for p in os.environ[\"PATH\"].split(os.pathsep):\n",
    "        if glob.glob(os.path.join(p, \"gdal*.dll\")):\n",
    "            os.environ['PATH'] = p + os.pathsep + os.environ['PATH']\n",
    "\n",
    "def get_box_corners(polygon):\n",
    "    \"\"\"\n",
    "    获取一个多边形（矩形）的四个角点坐标。\n",
    "    \"\"\"\n",
    "    if not isinstance(polygon, Polygon):\n",
    "        raise ValueError(\"输入的几何对象不是多边形\")\n",
    "\n",
    "    exterior_coords = polygon.exterior.coords[:4]  # 获取多边形的外部坐标，前四个点是角点\n",
    "    return exterior_coords\n",
    "\n",
    "def main(shp_file, output_excel):\n",
    "    # 读取SHP文件\n",
    "    gdf = gpd.read_file(shp_file)\n",
    "\n",
    "    # 如果需要，将 GeoDataFrame 转换为 WGS84 地理坐标系\n",
    "    if gdf.crs != \"EPSG:4326\":\n",
    "        gdf = gdf.to_crs(epsg=4326)\n",
    "\n",
    "    # 存储角点坐标\n",
    "    corners_list = []\n",
    "\n",
    "    for idx, row in gdf.iterrows():\n",
    "        geom = row.geometry\n",
    "        if geom is None or geom.is_empty or not isinstance(geom, Polygon):\n",
    "            continue\n",
    "\n",
    "        corners = get_box_corners(geom)\n",
    "        corners_list.append({\n",
    "            \"index\": idx,\n",
    "            \"corner_1\": corners[0],\n",
    "            \"corner_2\": corners[1],\n",
    "            \"corner_3\": corners[2],\n",
    "            \"corner_4\": corners[3]\n",
    "        })\n",
    "\n",
    "    # 将结果转换为 DataFrame\n",
    "    df = pd.DataFrame(corners_list)\n",
    "\n",
    "    # 保存到 Excel 文件\n",
    "    df.to_excel(output_excel, index=False)\n",
    "    print(f\"坐标已保存到 {output_excel}\")\n",
    "\n",
    "# 示例文件路径\n",
    "shp_file = 'your_shp_path.shp'\n",
    "output_excel = 'output_excel_path.xlsx'\n",
    "\n",
    "# 执行主函数\n",
    "main(shp_file, output_excel)"
   ]
  },
  {
   "cell_type": "code",
   "execution_count": null,
   "id": "aea92188",
   "metadata": {},
   "outputs": [],
   "source": []
  }
 ],
 "metadata": {
  "kernelspec": {
   "display_name": "CV",
   "language": "python",
   "name": "cv"
  },
  "language_info": {
   "codemirror_mode": {
    "name": "ipython",
    "version": 3
   },
   "file_extension": ".py",
   "mimetype": "text/x-python",
   "name": "python",
   "nbconvert_exporter": "python",
   "pygments_lexer": "ipython3",
   "version": "3.9.18"
  }
 },
 "nbformat": 4,
 "nbformat_minor": 5
}
