{
 "cells": [
  {
   "cell_type": "code",
   "execution_count": 11,
   "id": "7ef91238",
   "metadata": {},
   "outputs": [
    {
     "name": "stdout",
     "output_type": "stream",
     "text": [
      "投影坐标系下的坐标: X=8069317.015811941, Y=10806710.763501817\n"
     ]
    },
    {
     "name": "stderr",
     "output_type": "stream",
     "text": [
      "E:\\Anaconda3\\envs\\map\\lib\\site-packages\\pyproj\\crs\\crs.py:131: FutureWarning: '+init=<authority>:<code>' syntax is deprecated. '<authority>:<code>' is the preferred initialization method. When making the change, be mindful of axis order changes: https://pyproj4.github.io/pyproj/stable/gotchas.html#axis-order-changes-in-proj-6\n",
      "  in_crs_string = _prepare_from_proj_string(in_crs_string)\n",
      "E:\\Anaconda3\\envs\\map\\lib\\site-packages\\pyproj\\crs\\crs.py:131: FutureWarning: '+init=<authority>:<code>' syntax is deprecated. '<authority>:<code>' is the preferred initialization method. When making the change, be mindful of axis order changes: https://pyproj4.github.io/pyproj/stable/gotchas.html#axis-order-changes-in-proj-6\n",
      "  in_crs_string = _prepare_from_proj_string(in_crs_string)\n",
      "E:\\Anaconda3\\envs\\map\\lib\\site-packages\\ipykernel_launcher.py:14: DeprecationWarning: This function is deprecated. See: https://pyproj4.github.io/pyproj/stable/gotchas.html#upgrading-to-pyproj-2-from-pyproj-1\n",
      "  \n"
     ]
    }
   ],
   "source": [
    "from pyproj import Proj, transform\n",
    "\n",
    "# 定义原始地理坐标系和目标投影坐标系\n",
    "# WGS84是一个常用的地理坐标系\n",
    "wgs84 = Proj(init='epsg:4326')\n",
    "# 假设我们要转换到UTM坐标系，WGS 84 / UTM zone 33N\n",
    "utm = Proj(init='epsg:32633')\n",
    "\n",
    "# 示例经纬度坐标\n",
    "longitude = 109.879\n",
    "latitude = 33.592\n",
    "\n",
    "# 转换坐标\n",
    "x, y = transform(wgs84, utm, longitude, latitude)\n",
    "print(f\"投影坐标系下的坐标: X={x}, Y={y}\")"
   ]
  },
  {
   "cell_type": "code",
   "execution_count": 1,
   "id": "2b694a26",
   "metadata": {},
   "outputs": [
    {
     "name": "stdout",
     "output_type": "stream",
     "text": [
      "YOLO标签： 0 0.02538462763441275 0.34871297696619896 0.005226881102814474 0.006516653670491255\n"
     ]
    }
   ],
   "source": [
    "import pandas as pd\n",
    "import numpy as np\n",
    "\n",
    "# 读取TFW文件内容\n",
    "A = 0.0000001616\n",
    "B = 0.0000000000\n",
    "C = 0.0000000000\n",
    "D = -0.0000001352\n",
    "E = 109.5142514878\n",
    "F = 33.6084263172\n",
    "\n",
    "# tif栅格图像的尺寸\n",
    "image_width = 17410\n",
    "image_height = 17954\n",
    "\n",
    "# 读取Excel文件，指定engine为openpyxl\n",
    "df = pd.read_excel(\"output_excel_path.xlsx\", engine='openpyxl')\n",
    "\n",
    "# 定义函数来计算中心点和尺寸\n",
    "def calculate_center_and_size(points):\n",
    "    longitudes = [point[0] for point in points]\n",
    "    latitudes = [point[1] for point in points]\n",
    "    \n",
    "    # 计算中心点\n",
    "    center_longitude = np.mean(longitudes)\n",
    "    center_latitude = np.mean(latitudes)\n",
    "    \n",
    "    # 计算宽度和高度（单位：像素）\n",
    "    pixel_coords = [(int((lon - E) / A), int((lat - F) / D)) for lon, lat in points]\n",
    "    xs, ys = zip(*pixel_coords)\n",
    "    width = max(xs) - min(xs)\n",
    "    height = max(ys) - min(ys)\n",
    "    \n",
    "    return center_longitude, center_latitude, width, height\n",
    "\n",
    "# 初始化YOLO标签列表\n",
    "yolo_labels = []\n",
    "\n",
    "# 遍历每一行数据\n",
    "for index, row in df.iterrows():\n",
    "    points = [\n",
    "        eval(row[1]),  # 读取第2列的点\n",
    "        eval(row[2]),  # 读取第3列的点\n",
    "        eval(row[3]),  # 读取第4列的点\n",
    "        eval(row[4])   # 读取第5列的点\n",
    "    ]\n",
    "    \n",
    "    # 计算中心点和尺寸\n",
    "    center_longitude, center_latitude, object_width_in_pixels, object_height_in_pixels = calculate_center_and_size(points)\n",
    "    \n",
    "    # 将地理坐标转换为图像像素坐标\n",
    "    pixel_x = (center_longitude - E) / A\n",
    "    pixel_y = (center_latitude - F) / D\n",
    "    \n",
    "    # 计算YOLO标签中的相对坐标\n",
    "    center_x = pixel_x / image_width\n",
    "    center_y = pixel_y / image_height\n",
    "    width = object_width_in_pixels / image_width\n",
    "    height = object_height_in_pixels / image_height\n",
    "    \n",
    "    # 类别ID（假设为0）\n",
    "    class_id = 0\n",
    "    \n",
    "    # 生成YOLO标签\n",
    "    yolo_label = f\"{class_id} {center_x} {center_y} {width} {height}\"\n",
    "    \n",
    "    # 添加到YOLO标签列表\n",
    "    yolo_labels.append(yolo_label)\n",
    "\n",
    "# 打印结果\n",
    "for label in yolo_labels:\n",
    "    print(\"YOLO标签：\", label)\n",
    "\n",
    "# 可选：将标签写入文件\n",
    "with open(\"yolo_label_path.txt\", \"w\") as label_file:\n",
    "    for label in yolo_labels:\n",
    "        label_file.write(label + \"\\n\")"
   ]
  },
  {
   "cell_type": "code",
   "execution_count": null,
   "id": "b067bc7f",
   "metadata": {},
   "outputs": [],
   "source": []
  }
 ],
 "metadata": {
  "kernelspec": {
   "display_name": "map",
   "language": "python",
   "name": "map"
  },
  "language_info": {
   "codemirror_mode": {
    "name": "ipython",
    "version": 3
   },
   "file_extension": ".py",
   "mimetype": "text/x-python",
   "name": "python",
   "nbconvert_exporter": "python",
   "pygments_lexer": "ipython3",
   "version": "3.7.0"
  }
 },
 "nbformat": 4,
 "nbformat_minor": 5
}
