{
 "cells": [
  {
   "cell_type": "code",
   "execution_count": 2,
   "id": "e3eba067",
   "metadata": {},
   "outputs": [],
   "source": [
    "import os\n",
    "import geopandas as gpd\n",
    "import pandas as pd\n",
    "\n",
    "# 指定包含多个子文件夹的文件夹A的路径\n",
    "folder_path = 'path_to_your_folder_A'\n",
    "target_crs = 'EPSG:4326'  # WGS84坐标系\n",
    "\n",
    "# 初始化一个空的列表来存储GeoDataFrames\n",
    "gdfs = []\n",
    "\n",
    "# 遍历文件夹A中的所有子文件夹\n",
    "for sub_folder in os.listdir(folder_path):\n",
    "    sub_folder_path = os.path.join(folder_path, sub_folder)\n",
    "    if os.path.isdir(sub_folder_path):\n",
    "        # 在每个子文件夹中查找shapefile文件并进行合并\n",
    "        for file in os.listdir(sub_folder_path):\n",
    "            if file.endswith('.shp'):\n",
    "                file_path = os.path.join(sub_folder_path, file)\n",
    "                gdf = gpd.read_file(file_path)\n",
    "                # 转换坐标系到目标坐标系\n",
    "                gdf = gdf.to_crs(target_crs)\n",
    "                gdfs.append(gdf)\n",
    "\n",
    "# 使用pandas的concat方法合并所有GeoDataFrames\n",
    "merged_gdf = pd.concat(gdfs, ignore_index=True)\n",
    "\n",
    "# 保存合并后的shapefile\n",
    "output_path = 'path_to_save_merged_shapefile/merged_shapefile.shp'\n",
    "merged_gdf.to_file(output_path)"
   ]
  },
  {
   "cell_type": "code",
   "execution_count": null,
   "id": "194ebc6d",
   "metadata": {},
   "outputs": [],
   "source": []
  }
 ],
 "metadata": {
  "kernelspec": {
   "display_name": "CV",
   "language": "python",
   "name": "cv"
  },
  "language_info": {
   "codemirror_mode": {
    "name": "ipython",
    "version": 3
   },
   "file_extension": ".py",
   "mimetype": "text/x-python",
   "name": "python",
   "nbconvert_exporter": "python",
   "pygments_lexer": "ipython3",
   "version": "3.9.18"
  }
 },
 "nbformat": 4,
 "nbformat_minor": 5
}
