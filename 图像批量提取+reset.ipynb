{
 "cells": [
  {
   "cell_type": "code",
   "execution_count": 11,
   "id": "626854e9",
   "metadata": {},
   "outputs": [],
   "source": [
    "#提取#把A文件夹中的许多子文件夹里的图片提取出来到文件夹B中"
   ]
  },
  {
   "cell_type": "code",
   "execution_count": 4,
   "id": "a1b61711",
   "metadata": {},
   "outputs": [
    {
     "name": "stdout",
     "output_type": "stream",
     "text": [
      "所有 TIFF 图像已提取到文件夹 B 中。\n"
     ]
    }
   ],
   "source": [
    "import os\n",
    "import shutil\n",
    "\n",
    "# 输入文件夹路径\n",
    "folder_A = 'G:\\\\shp_kuang4'\n",
    "folder_B = 'G:\\\\倾斜'\n",
    "\n",
    "# 确保输出文件夹存在\n",
    "if not os.path.exists(folder_B):\n",
    "    os.makedirs(folder_B)\n",
    "\n",
    "# 遍历文件夹A及其所有子文件夹\n",
    "for root, dirs, files in os.walk(folder_A):\n",
    "    for file in files:\n",
    "        if file.endswith('.tif'):\n",
    "            # 构建源文件路径和目标文件路径\n",
    "            source_file = os.path.join(root, file)\n",
    "            target_file = os.path.join(folder_B, file)\n",
    "            # 将文件复制到文件夹B\n",
    "            shutil.copy2(source_file, target_file)\n",
    "\n",
    "print(\"所有 TIFF 图像已提取到文件夹 B 中。\")"
   ]
  },
  {
   "cell_type": "code",
   "execution_count": 12,
   "id": "e4d1d9be",
   "metadata": {},
   "outputs": [],
   "source": [
    "#reset#把input_folder文件夹中的tif图像素大小全部reset为400*400"
   ]
  },
  {
   "cell_type": "code",
   "execution_count": 2,
   "id": "160ae7d6",
   "metadata": {},
   "outputs": [
    {
     "name": "stderr",
     "output_type": "stream",
     "text": [
      "E:\\Anaconda3\\envs\\map\\lib\\site-packages\\ipykernel_launcher.py:19: DeprecationWarning: ANTIALIAS is deprecated and will be removed in Pillow 10 (2023-07-01). Use LANCZOS or Resampling.LANCZOS instead.\n"
     ]
    },
    {
     "name": "stdout",
     "output_type": "stream",
     "text": [
      "所有图像已调整为 400x400 像素。\n"
     ]
    }
   ],
   "source": [
    "from PIL import Image\n",
    "import os\n",
    "\n",
    "# 输入文件夹路径\n",
    "input_folder = 'G:\\\\倾斜测试pro'\n",
    "output_folder = 'G:\\\\倾斜测试pro\\\\reset'\n",
    "\n",
    "# 确保输出文件夹存在\n",
    "if not os.path.exists(output_folder):\n",
    "    os.makedirs(output_folder)\n",
    "\n",
    "# 获取所有 tif 文件\n",
    "tif_files = [f for f in os.listdir(input_folder) if f.endswith('.tif')]\n",
    "\n",
    "for tif_file in tif_files:\n",
    "    # 打开图像\n",
    "    img = Image.open(os.path.join(input_folder, tif_file))\n",
    "    # 调整大小\n",
    "    img_resized = img.resize((400, 400), Image.ANTIALIAS)\n",
    "    # 保存调整大小后的图像\n",
    "    img_resized.save(os.path.join(output_folder, tif_file))\n",
    "\n",
    "print(\"所有图像已调整为 400x400 像素。\")"
   ]
  },
  {
   "cell_type": "code",
   "execution_count": null,
   "id": "e5d0f319",
   "metadata": {},
   "outputs": [],
   "source": []
  }
 ],
 "metadata": {
  "kernelspec": {
   "display_name": "map",
   "language": "python",
   "name": "map"
  },
  "language_info": {
   "codemirror_mode": {
    "name": "ipython",
    "version": 3
   },
   "file_extension": ".py",
   "mimetype": "text/x-python",
   "name": "python",
   "nbconvert_exporter": "python",
   "pygments_lexer": "ipython3",
   "version": "3.7.0"
  }
 },
 "nbformat": 4,
 "nbformat_minor": 5
}
